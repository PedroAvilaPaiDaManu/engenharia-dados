{
  "nbformat": 4,
  "nbformat_minor": 0,
  "metadata": {
    "colab": {
      "provenance": [],
      "authorship_tag": "ABX9TyMt3WfBwiyeSc/aVSANAAZU",
      "include_colab_link": true
    },
    "kernelspec": {
      "name": "python3",
      "display_name": "Python 3"
    },
    "language_info": {
      "name": "python"
    }
  },
  "cells": [
    {
      "cell_type": "markdown",
      "metadata": {
        "id": "view-in-github",
        "colab_type": "text"
      },
      "source": [
        "<a href=\"https://colab.research.google.com/github/PedroAvilaPaiDaManu/engenharia-dados/blob/main/engenheiro.ipynb\" target=\"_parent\"><img src=\"https://colab.research.google.com/assets/colab-badge.svg\" alt=\"Open In Colab\"/></a>"
      ]
    },
    {
      "cell_type": "code",
      "execution_count": 1,
      "metadata": {
        "colab": {
          "base_uri": "https://localhost:8080/"
        },
        "id": "MqVWp4wa-bGr",
        "outputId": "3884f6f1-c9b1-4601-c48e-35c55ff1c373"
      },
      "outputs": [
        {
          "output_type": "stream",
          "name": "stdout",
          "text": [
            "Looking in indexes: https://pypi.org/simple, https://us-python.pkg.dev/colab-wheels/public/simple/\n",
            "Requirement already satisfied: google-cloud-storage in /usr/local/lib/python3.9/dist-packages (2.8.0)\n",
            "Requirement already satisfied: requests<3.0.0dev,>=2.18.0 in /usr/local/lib/python3.9/dist-packages (from google-cloud-storage) (2.27.1)\n",
            "Requirement already satisfied: google-cloud-core<3.0dev,>=2.3.0 in /usr/local/lib/python3.9/dist-packages (from google-cloud-storage) (2.3.2)\n",
            "Requirement already satisfied: google-auth<3.0dev,>=1.25.0 in /usr/local/lib/python3.9/dist-packages (from google-cloud-storage) (2.17.3)\n",
            "Requirement already satisfied: google-resumable-media>=2.3.2 in /usr/local/lib/python3.9/dist-packages (from google-cloud-storage) (2.4.1)\n",
            "Requirement already satisfied: google-api-core!=2.0.*,!=2.1.*,!=2.2.*,!=2.3.0,<3.0.0dev,>=1.31.5 in /usr/local/lib/python3.9/dist-packages (from google-cloud-storage) (2.11.0)\n",
            "Requirement already satisfied: protobuf!=3.20.0,!=3.20.1,!=4.21.0,!=4.21.1,!=4.21.2,!=4.21.3,!=4.21.4,!=4.21.5,<5.0.0dev,>=3.19.5 in /usr/local/lib/python3.9/dist-packages (from google-api-core!=2.0.*,!=2.1.*,!=2.2.*,!=2.3.0,<3.0.0dev,>=1.31.5->google-cloud-storage) (3.20.3)\n",
            "Requirement already satisfied: googleapis-common-protos<2.0dev,>=1.56.2 in /usr/local/lib/python3.9/dist-packages (from google-api-core!=2.0.*,!=2.1.*,!=2.2.*,!=2.3.0,<3.0.0dev,>=1.31.5->google-cloud-storage) (1.59.0)\n",
            "Requirement already satisfied: six>=1.9.0 in /usr/local/lib/python3.9/dist-packages (from google-auth<3.0dev,>=1.25.0->google-cloud-storage) (1.16.0)\n",
            "Requirement already satisfied: cachetools<6.0,>=2.0.0 in /usr/local/lib/python3.9/dist-packages (from google-auth<3.0dev,>=1.25.0->google-cloud-storage) (5.3.0)\n",
            "Requirement already satisfied: pyasn1-modules>=0.2.1 in /usr/local/lib/python3.9/dist-packages (from google-auth<3.0dev,>=1.25.0->google-cloud-storage) (0.2.8)\n",
            "Requirement already satisfied: rsa<5,>=3.1.4 in /usr/local/lib/python3.9/dist-packages (from google-auth<3.0dev,>=1.25.0->google-cloud-storage) (4.9)\n",
            "Requirement already satisfied: google-crc32c<2.0dev,>=1.0 in /usr/local/lib/python3.9/dist-packages (from google-resumable-media>=2.3.2->google-cloud-storage) (1.5.0)\n",
            "Requirement already satisfied: idna<4,>=2.5 in /usr/local/lib/python3.9/dist-packages (from requests<3.0.0dev,>=2.18.0->google-cloud-storage) (3.4)\n",
            "Requirement already satisfied: charset-normalizer~=2.0.0 in /usr/local/lib/python3.9/dist-packages (from requests<3.0.0dev,>=2.18.0->google-cloud-storage) (2.0.12)\n",
            "Requirement already satisfied: urllib3<1.27,>=1.21.1 in /usr/local/lib/python3.9/dist-packages (from requests<3.0.0dev,>=2.18.0->google-cloud-storage) (1.26.15)\n",
            "Requirement already satisfied: certifi>=2017.4.17 in /usr/local/lib/python3.9/dist-packages (from requests<3.0.0dev,>=2.18.0->google-cloud-storage) (2022.12.7)\n",
            "Requirement already satisfied: pyasn1<0.5.0,>=0.4.6 in /usr/local/lib/python3.9/dist-packages (from pyasn1-modules>=0.2.1->google-auth<3.0dev,>=1.25.0->google-cloud-storage) (0.4.8)\n"
          ]
        }
      ],
      "source": [
        "!pip install google-cloud-storage\n"
      ]
    },
    {
      "cell_type": "code",
      "source": [
        "from google.colab import auth\n",
        "auth.authenticate_user()\n"
      ],
      "metadata": {
        "id": "8RczCLjd_n9V"
      },
      "execution_count": 3,
      "outputs": []
    },
    {
      "cell_type": "code",
      "source": [
        "!gcloud init\n"
      ],
      "metadata": {
        "colab": {
          "base_uri": "https://localhost:8080/"
        },
        "id": "f1HUSvF3_v5z",
        "outputId": "140e409c-ca08-4e19-ec63-500711f6fa65"
      },
      "execution_count": 7,
      "outputs": [
        {
          "output_type": "stream",
          "name": "stdout",
          "text": [
            "Welcome! This command will take you through the configuration of gcloud.\n",
            "\n",
            "Settings from your current configuration [default] are:\n",
            "component_manager:\n",
            "  disable_update_check: 'True'\n",
            "compute:\n",
            "  region: us-east4\n",
            "  zone: us-east4-a\n",
            "core:\n",
            "  account: pedronp.avila88@gmail.com\n",
            "  project: curso-dataflow-beam-383711\n",
            "\n",
            "Pick configuration to use:\n",
            " [1] Re-initialize this configuration [default] with new settings \n",
            " [2] Create a new configuration\n",
            "Please enter your numeric choice:  1\n",
            "\n",
            "Your current configuration has been set to: [default]\n",
            "\n",
            "You can skip diagnostics next time by using the following flag:\n",
            "  gcloud init --skip-diagnostics\n",
            "\n",
            "Network diagnostic detects and fixes local network connection issues.\n",
            "Reachability Check passed.\n",
            "Network diagnostic passed (1/1 checks passed).\n",
            "\n",
            "Choose the account you would like to use to perform operations for this \n",
            "configuration:\n",
            " [1] pedronp.avila88@gmail.com\n",
            " [2] Log in with a new account\n",
            "Please enter your numeric choice:  1\n",
            "\n",
            "You are logged in as: [pedronp.avila88@gmail.com].\n",
            "\n",
            "Pick cloud project to use: \n",
            " [1] curso-dataflow-beam-383711\n",
            " [2] teste-f0f04\n",
            " [3] teste01-f7421\n",
            " [4] trim-mix-383711\n",
            " [5] Enter a project ID\n",
            " [6] Create a new project\n",
            "Please enter numeric choice or text value (must exactly match list item):  \n",
            "Please enter a value between 1 and 6, or a value present in the list:  1\n",
            "\n",
            "Your current project has been set to: [curso-dataflow-beam-383711].\n",
            "\n",
            "Do you want to configure a default Compute Region and Zone? (Y/n)?  n\n",
            "\n",
            "Your Google Cloud SDK is configured and ready to use!\n",
            "\n",
            "* Commands that require authentication will use pedronp.avila88@gmail.com by default\n",
            "* Commands will reference project `curso-dataflow-beam-383711` by default\n",
            "Run `gcloud help config` to learn how to change individual settings\n",
            "\n",
            "This gcloud configuration is called [default]. You can create additional configurations if you work with multiple accounts and/or projects.\n",
            "Run `gcloud topic configurations` to learn more.\n",
            "\n",
            "Some things to try next:\n",
            "\n",
            "* Run `gcloud --help` to see the Cloud Platform services you can interact with. And run `gcloud help COMMAND` to get help on any gcloud command.\n",
            "* Run `gcloud topic --help` to learn about advanced features of the SDK like arg files and output formatting\n",
            "* Run `gcloud cheat-sheet` to see a roster of go-to `gcloud` commands.\n"
          ]
        }
      ]
    },
    {
      "cell_type": "code",
      "source": [
        "import os\n",
        "\n",
        "directory = \"engenheiro-dados\"\n",
        "if not os.path.exists(directory):\n",
        "    os.makedirs(directory)\n",
        "print(directory)"
      ],
      "metadata": {
        "colab": {
          "base_uri": "https://localhost:8080/"
        },
        "id": "J9l-RNunCbZM",
        "outputId": "bd16ea6b-f704-4a52-d01e-51e9b07bb758"
      },
      "execution_count": 16,
      "outputs": [
        {
          "output_type": "stream",
          "name": "stdout",
          "text": [
            "engenheiro-dados\n"
          ]
        }
      ]
    },
    {
      "cell_type": "code",
      "source": [
        "from google.cloud import storage\n",
        "\n",
        "# Crie uma instância do cliente de armazenamento do Google Cloud\n",
        "client = storage.Client()\n",
        "\n",
        "# Especifique o nome do seu bucket\n",
        "bucket_name = \"engenheiro-dados\"\n",
        "\n",
        "# Recupere uma referência ao bucket\n",
        "bucket = client.get_bucket(bucket_name)\n",
        "\n",
        "# Especifique a lista de nomes de arquivo que você deseja baixar do bucket\n",
        "nomes_arquivos = [\"Person.Person.csv\", \"Production.Product.csv\",\"Sales.Customer.csv\",\"Sales.SalesOrderDetail.csv\",\"Sales.SalesOrderHeader.csv\",\"Sales.SpecialOfferProduct.csv\"]\n",
        "\n",
        "# Itere sobre a lista de nomes de arquivo e baixe cada arquivo para o diretório atual\n",
        "for nome_do_arquivo in nomes_arquivos:\n",
        "    # Recupere uma referência ao blob (arquivo) no bucket\n",
        "    blob = bucket.blob(nome_do_arquivo)\n",
        "\n",
        "    # Baixe o arquivo para o diretório atual\n",
        "    blob.download_to_filename(nome_do_arquivo)\n"
      ],
      "metadata": {
        "id": "ZDAiC3M_FtEV"
      },
      "execution_count": 20,
      "outputs": []
    },
    {
      "cell_type": "code",
      "source": [
        "!apt-get install openjdk-11-jdk-headless -qq > /dev/null\n",
        "!wget https://archive.apache.org/dist/spark/spark-3.2.2/spark-3.2.2-bin-hadoop3.2.tgz\n",
        "!tar xf spark-3.2.2-bin-hadoop3.2.tgz\n",
        "!pip install -q findspark pandas numpy\n",
        "\n",
        "# configurar as variáveis de ambiente\n",
        "import os\n",
        "os.environ[\"JAVA_HOME\"] = \"/usr/lib/jvm/java-11-openjdk-amd64\"\n",
        "os.environ[\"SPARK_HOME\"] = \"/content/spark-3.2.2-bin-hadoop3.2\"\n",
        "\n",
        "# tornar o pyspark \"importável\"\n",
        "import findspark\n",
        "findspark.init('spark-3.2.2-bin-hadoop3.2')\n",
        "\n",
        "\n",
        "from pyspark.sql import functions as func\n",
        "from pyspark.sql import SparkSession\n",
        "from pyspark.sql import types as T\n",
        "from pyspark.sql import functions as F\n",
        "import pyspark.pandas as ps\n",
        "import pandas as pd\n",
        "import numpy as np\n",
        "import warnings, re\n",
        "\n",
        "\n",
        "warnings.filterwarnings('ignore')\n",
        "pd.set_option('display.max_columns', None)\n",
        "\n",
        "\n",
        "# Instanciando Spark\n",
        "spark = SparkSession.builder.master('local[*]').getOrCreate()"
      ],
      "metadata": {
        "colab": {
          "base_uri": "https://localhost:8080/"
        },
        "id": "R8ub8zj2G-7W",
        "outputId": "1ee7013e-dcfd-4e88-a5c3-a3e72b885015"
      },
      "execution_count": 32,
      "outputs": [
        {
          "output_type": "stream",
          "name": "stdout",
          "text": [
            "--2023-04-20 00:48:11--  https://archive.apache.org/dist/spark/spark-3.2.2/spark-3.2.2-bin-hadoop3.2.tgz\n",
            "Resolving archive.apache.org (archive.apache.org)... 138.201.131.134, 2a01:4f8:172:2ec5::2\n",
            "Connecting to archive.apache.org (archive.apache.org)|138.201.131.134|:443... connected.\n",
            "HTTP request sent, awaiting response... 200 OK\n",
            "Length: 301112604 (287M) [application/x-gzip]\n",
            "Saving to: ‘spark-3.2.2-bin-hadoop3.2.tgz’\n",
            "\n",
            "spark-3.2.2-bin-had 100%[===================>] 287.16M  17.0MB/s    in 16s     \n",
            "\n",
            "2023-04-20 00:48:27 (17.8 MB/s) - ‘spark-3.2.2-bin-hadoop3.2.tgz’ saved [301112604/301112604]\n",
            "\n"
          ]
        },
        {
          "output_type": "stream",
          "name": "stderr",
          "text": [
            "WARNING:root:'PYARROW_IGNORE_TIMEZONE' environment variable was not set. It is required to set this environment variable to '1' in both driver and executor sides if you use pyarrow>=2.0.0. pandas-on-Spark will set it for you but it does not work if there is a Spark context already launched.\n"
          ]
        }
      ]
    },
    {
      "cell_type": "code",
      "source": [
        "path = \"Person.Person.csv\"\n",
        "path1 = \"Production.Product.csv\"\n",
        "path2 = \"Sales.Customer.csv\"\n",
        "path3 = \"Sales.SalesOrderDetail.csv\"\n",
        "path4 = \"Sales.SalesOrderHeader.csv\"\n",
        "path5 = \"Sales.SpecialOfferProduct.csv\""
      ],
      "metadata": {
        "id": "2AM39jnGI1vk"
      },
      "execution_count": 42,
      "outputs": []
    },
    {
      "cell_type": "code",
      "source": [
        "df_person = spark.read.format(\"csv\").option(\"header\", True).option(\"ignoreLeadingWhiteSpace\", True).option(\"inferSchema\", True).options(delimiter=';').load(path)"
      ],
      "metadata": {
        "id": "oCk4h4uhJziU"
      },
      "execution_count": 39,
      "outputs": []
    },
    {
      "cell_type": "code",
      "source": [
        "df_production = spark.read.format(\"csv\").option(\"header\", True).option(\"ignoreLeadingWhiteSpace\", True).option(\"inferSchema\", True).options(delimiter=';').load(path1)"
      ],
      "metadata": {
        "id": "j4GUqyJHLx-b"
      },
      "execution_count": 43,
      "outputs": []
    },
    {
      "cell_type": "code",
      "source": [
        "df_custumer = spark.read.format(\"csv\").option(\"header\", True).option(\"ignoreLeadingWhiteSpace\", True).option(\"inferSchema\", True).options(delimiter=';').load(path2)"
      ],
      "metadata": {
        "id": "z6IFM23SLx0k"
      },
      "execution_count": 44,
      "outputs": []
    },
    {
      "cell_type": "code",
      "source": [
        "df_detail = spark.read.format(\"csv\").option(\"header\", True).option(\"ignoreLeadingWhiteSpace\", True).option(\"inferSchema\", True).options(delimiter=';').load(path3)"
      ],
      "metadata": {
        "id": "hyAGOH_mLxLk"
      },
      "execution_count": 45,
      "outputs": []
    },
    {
      "cell_type": "code",
      "source": [
        "df_header = spark.read.format(\"csv\").option(\"header\", True).option(\"ignoreLeadingWhiteSpace\", True).option(\"inferSchema\", True).options(delimiter=';').load(path4)"
      ],
      "metadata": {
        "id": "y-ZQHat8MV73"
      },
      "execution_count": 46,
      "outputs": []
    },
    {
      "cell_type": "code",
      "source": [
        "df_offer_product = spark.read.format(\"csv\").option(\"header\", True).option(\"ignoreLeadingWhiteSpace\", True).option(\"inferSchema\", True).options(delimiter=';').load(path5)"
      ],
      "metadata": {
        "id": "yr01Rz-iMcva"
      },
      "execution_count": 47,
      "outputs": []
    },
    {
      "cell_type": "code",
      "source": [
        "df_person.show()"
      ],
      "metadata": {
        "colab": {
          "base_uri": "https://localhost:8080/"
        },
        "id": "3fYXz1I9J5dL",
        "outputId": "3c196842-8ad9-4eea-b28b-a1c7a9ebcfd7"
      },
      "execution_count": 40,
      "outputs": [
        {
          "output_type": "stream",
          "name": "stdout",
          "text": [
            "+----------------+----------+---------+-----+---------+----------+----------+------+--------------+---------------------+--------------------+--------------------+--------------------+\n",
            "|BusinessEntityID|PersonType|NameStyle|Title|FirstName|MiddleName|  LastName|Suffix|EmailPromotion|AdditionalContactInfo|        Demographics|             rowguid|        ModifiedDate|\n",
            "+----------------+----------+---------+-----+---------+----------+----------+------+--------------+---------------------+--------------------+--------------------+--------------------+\n",
            "|               1|        EM|        0| NULL|      Ken|         J|   Sánchez|  NULL|             0|                 NULL|\"<IndividualSurve...|92C4279F-1207-48A...|2009-01-07 00:00:...|\n",
            "|               2|        EM|        0| NULL|    Terri|       Lee|     Duffy|  NULL|             1|                 NULL|\"<IndividualSurve...|D8763459-8AA8-47C...|2008-01-24 00:00:...|\n",
            "|               3|        EM|        0| NULL|  Roberto|      NULL|Tamburello|  NULL|             0|                 NULL|\"<IndividualSurve...|E1A2555E-0828-434...|2007-11-04 00:00:...|\n",
            "|               4|        EM|        0| NULL|      Rob|      NULL|   Walters|  NULL|             0|                 NULL|\"<IndividualSurve...|F2D7CE06-38B3-435...|2007-11-28 00:00:...|\n",
            "|               5|        EM|        0|  Ms.|     Gail|         A|  Erickson|  NULL|             0|                 NULL|\"<IndividualSurve...|F3A3F6B4-AE3B-430...|2007-12-30 00:00:...|\n",
            "|               6|        EM|        0|  Mr.|   Jossef|         H|  Goldberg|  NULL|             0|                 NULL|\"<IndividualSurve...|0DEA28FD-EFFE-482...|2013-12-16 00:00:...|\n",
            "|               7|        EM|        0| NULL|    Dylan|         A|    Miller|  NULL|             2|                 NULL|\"<IndividualSurve...|C45E8AB8-01BE-4B7...|2009-02-01 00:00:...|\n",
            "|               8|        EM|        0| NULL|    Diane|         L|  Margheim|  NULL|             0|                 NULL|\"<IndividualSurve...|A948E590-4A56-45A...|2008-12-22 00:00:...|\n",
            "|               9|        EM|        0| NULL|     Gigi|         N|   Matthew|  NULL|             0|                 NULL|\"<IndividualSurve...|5FC28C0E-6D36-425...|2009-01-09 00:00:...|\n",
            "|              10|        EM|        0| NULL|  Michael|      NULL|    Raheem|  NULL|             2|                 NULL|\"<IndividualSurve...|CA2C740E-75B2-420...|2009-04-26 00:00:...|\n",
            "|              11|        EM|        0| NULL|   Ovidiu|         V|   Cracium|  NULL|             0|                 NULL|\"<IndividualSurve...|D2CC2577-EF6B-440...|2010-11-28 00:00:...|\n",
            "|              12|        EM|        0| NULL|  Thierry|         B|    D'Hers|  NULL|             2|                 NULL|\"<IndividualSurve...|FA263C7F-600D-4E8...|2007-12-04 00:00:...|\n",
            "|              13|        EM|        0|  Ms.|   Janice|         M|    Galvin|  NULL|             2|                 NULL|\"<IndividualSurve...|34EB99E0-7042-4DC...|2010-12-16 00:00:...|\n",
            "|              14|        EM|        0| NULL|  Michael|         I|  Sullivan|  NULL|             2|                 NULL|\"<IndividualSurve...|9A7501DE-5CAF-470...|2010-12-23 00:00:...|\n",
            "|              15|        EM|        0| NULL|   Sharon|         B| Salavaria|  NULL|             2|                 NULL|\"<IndividualSurve...|BEBA63CB-13F1-4B7...|2011-01-11 00:00:...|\n",
            "|              16|        EM|        0| NULL|    David|         M|   Bradley|  NULL|             1|                 NULL|\"<IndividualSurve...|2CC8BA72-5DBB-497...|2007-12-13 00:00:...|\n",
            "|              17|        EM|        0| NULL|    Kevin|         F|     Brown|  NULL|             2|                 NULL|\"<IndividualSurve...|9EE4713E-B3D8-440...|2007-01-19 00:00:...|\n",
            "|              18|        EM|        0| NULL|     John|         L|      Wood|  NULL|             2|                 NULL|\"<IndividualSurve...|FE21BDA7-9327-4D1...|2011-01-31 00:00:...|\n",
            "|              19|        EM|        0| NULL|     Mary|         A|   Dempsey|  NULL|             1|                 NULL|\"<IndividualSurve...|36F04305-6769-4E6...|2011-02-07 00:00:...|\n",
            "|              20|        EM|        0| NULL|   Wanida|         M|  Benshoof|  NULL|             2|                 NULL|\"<IndividualSurve...|1E7E56F4-A583-4E3...|2010-12-31 00:00:...|\n",
            "+----------------+----------+---------+-----+---------+----------+----------+------+--------------+---------------------+--------------------+--------------------+--------------------+\n",
            "only showing top 20 rows\n",
            "\n"
          ]
        }
      ]
    },
    {
      "cell_type": "code",
      "source": [
        "df_person.count()"
      ],
      "metadata": {
        "colab": {
          "base_uri": "https://localhost:8080/"
        },
        "id": "8WUItA7OJ9jd",
        "outputId": "6ee5e9fd-fd13-4be6-bae8-42008652451d"
      },
      "execution_count": 41,
      "outputs": [
        {
          "output_type": "execute_result",
          "data": {
            "text/plain": [
              "19972"
            ]
          },
          "metadata": {},
          "execution_count": 41
        }
      ]
    },
    {
      "cell_type": "code",
      "source": [
        "df_production.show(10)"
      ],
      "metadata": {
        "colab": {
          "base_uri": "https://localhost:8080/"
        },
        "id": "N_sEL-89Klb0",
        "outputId": "cdbe9a92-8d8c-4f75-e913-167d2b1f60df"
      },
      "execution_count": 48,
      "outputs": [
        {
          "output_type": "stream",
          "name": "stdout",
          "text": [
            "+---------+--------------------+-------------+--------+-----------------+------+----------------+------------+------------+---------+----+-------------------+---------------------+------+-----------------+-----------+-----+-----+--------------------+--------------+--------------------+-----------+----------------+--------------------+--------------------+\n",
            "|ProductID|                Name|ProductNumber|MakeFlag|FinishedGoodsFlag| Color|SafetyStockLevel|ReorderPoint|StandardCost|ListPrice|Size|SizeUnitMeasureCode|WeightUnitMeasureCode|Weight|DaysToManufacture|ProductLine|Class|Style|ProductSubcategoryID|ProductModelID|       SellStartDate|SellEndDate|DiscontinuedDate|             rowguid|        ModifiedDate|\n",
            "+---------+--------------------+-------------+--------+-----------------+------+----------------+------------+------------+---------+----+-------------------+---------------------+------+-----------------+-----------+-----+-----+--------------------+--------------+--------------------+-----------+----------------+--------------------+--------------------+\n",
            "|        1|     Adjustable Race|      AR-5381|       0|                0|  NULL|            1000|         750|        0,00|     0,00|NULL|               NULL|                 NULL|  NULL|                0|       NULL| NULL| NULL|                NULL|          NULL|2008-04-30 00:00:...|       NULL|            NULL|694215B7-08F7-4C0...|2014-02-08 10:01:...|\n",
            "|        2|        Bearing Ball|      BA-8327|       0|                0|  NULL|            1000|         750|        0,00|     0,00|NULL|               NULL|                 NULL|  NULL|                0|       NULL| NULL| NULL|                NULL|          NULL|2008-04-30 00:00:...|       NULL|            NULL|58AE3C20-4F3A-474...|2014-02-08 10:01:...|\n",
            "|        3|     BB Ball Bearing|      BE-2349|       1|                0|  NULL|             800|         600|        0,00|     0,00|NULL|               NULL|                 NULL|  NULL|                1|       NULL| NULL| NULL|                NULL|          NULL|2008-04-30 00:00:...|       NULL|            NULL|9C21AED2-5BFA-4F1...|2014-02-08 10:01:...|\n",
            "|        4|Headset Ball Bear...|      BE-2908|       0|                0|  NULL|             800|         600|        0,00|     0,00|NULL|               NULL|                 NULL|  NULL|                0|       NULL| NULL| NULL|                NULL|          NULL|2008-04-30 00:00:...|       NULL|            NULL|ECFED6CB-51FF-49B...|2014-02-08 10:01:...|\n",
            "|      316|               Blade|      BL-2036|       1|                0|  NULL|             800|         600|        0,00|     0,00|NULL|               NULL|                 NULL|  NULL|                1|       NULL| NULL| NULL|                NULL|          NULL|2008-04-30 00:00:...|       NULL|            NULL|E73E9750-603B-413...|2014-02-08 10:01:...|\n",
            "|      317|         LL Crankarm|      CA-5965|       0|                0| Black|             500|         375|        0,00|     0,00|NULL|               NULL|                 NULL|  NULL|                0|       NULL|   L | NULL|                NULL|          NULL|2008-04-30 00:00:...|       NULL|            NULL|3C9D10B7-A6B2-477...|2014-02-08 10:01:...|\n",
            "|      318|         ML Crankarm|      CA-6738|       0|                0| Black|             500|         375|        0,00|     0,00|NULL|               NULL|                 NULL|  NULL|                0|       NULL|   M | NULL|                NULL|          NULL|2008-04-30 00:00:...|       NULL|            NULL|EABB9A92-FA07-4EA...|2014-02-08 10:01:...|\n",
            "|      319|         HL Crankarm|      CA-7457|       0|                0| Black|             500|         375|        0,00|     0,00|NULL|               NULL|                 NULL|  NULL|                0|       NULL| NULL| NULL|                NULL|          NULL|2008-04-30 00:00:...|       NULL|            NULL|7D3FD384-4F29-484...|2014-02-08 10:01:...|\n",
            "|      320|     Chainring Bolts|      CB-2903|       0|                0|Silver|            1000|         750|        0,00|     0,00|NULL|               NULL|                 NULL|  NULL|                0|       NULL| NULL| NULL|                NULL|          NULL|2008-04-30 00:00:...|       NULL|            NULL|7BE38E48-B7D6-448...|2014-02-08 10:01:...|\n",
            "|      321|       Chainring Nut|      CN-6137|       0|                0|Silver|            1000|         750|        0,00|     0,00|NULL|               NULL|                 NULL|  NULL|                0|       NULL| NULL| NULL|                NULL|          NULL|2008-04-30 00:00:...|       NULL|            NULL|3314B1D7-EF69-443...|2014-02-08 10:01:...|\n",
            "+---------+--------------------+-------------+--------+-----------------+------+----------------+------------+------------+---------+----+-------------------+---------------------+------+-----------------+-----------+-----+-----+--------------------+--------------+--------------------+-----------+----------------+--------------------+--------------------+\n",
            "only showing top 10 rows\n",
            "\n"
          ]
        }
      ]
    },
    {
      "cell_type": "code",
      "source": [
        "df_custumer.show(10)"
      ],
      "metadata": {
        "colab": {
          "base_uri": "https://localhost:8080/"
        },
        "id": "4fNjb87UMxeM",
        "outputId": "db120619-4df6-4bd9-8ccf-7b0635e013cd"
      },
      "execution_count": 49,
      "outputs": [
        {
          "output_type": "stream",
          "name": "stdout",
          "text": [
            "+----------+--------+-------+-----------+-------------+--------------------+--------------------+\n",
            "|CustomerID|PersonID|StoreID|TerritoryID|AccountNumber|             rowguid|        ModifiedDate|\n",
            "+----------+--------+-------+-----------+-------------+--------------------+--------------------+\n",
            "|         1|    NULL|    934|          1|   AW00000001|3F5AE95E-B87D-4AE...|2014-09-12 11:15:...|\n",
            "|         2|    NULL|   1028|          1|   AW00000002|E552F657-A9AF-4A7...|2014-09-12 11:15:...|\n",
            "|         3|    NULL|    642|          4|   AW00000003|130774B1-DB21-4EF...|2014-09-12 11:15:...|\n",
            "|         4|    NULL|    932|          4|   AW00000004|FF862851-1DAA-404...|2014-09-12 11:15:...|\n",
            "|         5|    NULL|   1026|          4|   AW00000005|83905BDC-6F5E-4F7...|2014-09-12 11:15:...|\n",
            "|         6|    NULL|    644|          4|   AW00000006|1A92DF88-BFA2-467...|2014-09-12 11:15:...|\n",
            "|         7|    NULL|    930|          1|   AW00000007|03E9273E-B193-448...|2014-09-12 11:15:...|\n",
            "|         8|    NULL|   1024|          5|   AW00000008|801368B1-4323-4BF...|2014-09-12 11:15:...|\n",
            "|         9|    NULL|    620|          5|   AW00000009|B900BB7F-23C3-481...|2014-09-12 11:15:...|\n",
            "|        10|    NULL|    928|          6|   AW00000010|CDB6698D-2FF1-4FB...|2014-09-12 11:15:...|\n",
            "+----------+--------+-------+-----------+-------------+--------------------+--------------------+\n",
            "only showing top 10 rows\n",
            "\n"
          ]
        }
      ]
    },
    {
      "cell_type": "code",
      "source": [
        "df_detail.show(10)"
      ],
      "metadata": {
        "colab": {
          "base_uri": "https://localhost:8080/"
        },
        "id": "73t_MrQOM1qY",
        "outputId": "63c6d2a5-add6-404d-e533-d4d393268905"
      },
      "execution_count": 50,
      "outputs": [
        {
          "output_type": "stream",
          "name": "stdout",
          "text": [
            "+------------+------------------+---------------------+--------+---------+--------------+---------+-----------------+---------+--------------------+--------------------+\n",
            "|SalesOrderID|SalesOrderDetailID|CarrierTrackingNumber|OrderQty|ProductID|SpecialOfferID|UnitPrice|UnitPriceDiscount|LineTotal|             rowguid|        ModifiedDate|\n",
            "+------------+------------------+---------------------+--------+---------+--------------+---------+-----------------+---------+--------------------+--------------------+\n",
            "|       43659|                 1|         4911-403C-98|       1|      776|             1| 2024,994|             0,00| 2024.994|B207C96D-D9E6-402...|2011-05-31 00:00:...|\n",
            "|       43659|                 2|         4911-403C-98|       3|      777|             1| 2024,994|             0,00| 6074.982|7ABB600D-1E77-41B...|2011-05-31 00:00:...|\n",
            "|       43659|                 3|         4911-403C-98|       1|      778|             1| 2024,994|             0,00| 2024.994|475CF8C6-49F6-486...|2011-05-31 00:00:...|\n",
            "|       43659|                 4|         4911-403C-98|       1|      771|             1| 2039,994|             0,00| 2039.994|04C4DE91-5815-45D...|2011-05-31 00:00:...|\n",
            "|       43659|                 5|         4911-403C-98|       1|      772|             1| 2039,994|             0,00| 2039.994|5A74C7D2-E641-438...|2011-05-31 00:00:...|\n",
            "|       43659|                 6|         4911-403C-98|       2|      773|             1| 2039,994|             0,00| 4079.988|CE472532-A4C0-45B...|2011-05-31 00:00:...|\n",
            "|       43659|                 7|         4911-403C-98|       1|      774|             1| 2039,994|             0,00| 2039.994|80667840-F962-4EE...|2011-05-31 00:00:...|\n",
            "|       43659|                 8|         4911-403C-98|       3|      714|             1|  28,8404|             0,00|  86.5212|E9D54907-E7B7-496...|2011-05-31 00:00:...|\n",
            "|       43659|                 9|         4911-403C-98|       1|      716|             1|  28,8404|             0,00|  28.8404|AA542630-BDCD-4CE...|2011-05-31 00:00:...|\n",
            "|       43659|                10|         4911-403C-98|       6|      709|             1|     5,70|             0,00|     34.2|AC769034-3C2F-495...|2011-05-31 00:00:...|\n",
            "+------------+------------------+---------------------+--------+---------+--------------+---------+-----------------+---------+--------------------+--------------------+\n",
            "only showing top 10 rows\n",
            "\n"
          ]
        }
      ]
    },
    {
      "cell_type": "code",
      "source": [
        "df_header.show(10)"
      ],
      "metadata": {
        "colab": {
          "base_uri": "https://localhost:8080/"
        },
        "id": "o11PwgaDM5C8",
        "outputId": "f9136966-6c48-4bb1-8736-471e2980b492"
      },
      "execution_count": 51,
      "outputs": [
        {
          "output_type": "stream",
          "name": "stdout",
          "text": [
            "+------------+--------------+--------------------+--------------------+--------------------+------+---------------+----------------+-------------------+--------------+----------+-------------+-----------+---------------+---------------+------------+------------+----------------------+--------------+----------+---------+---------+----------+-------+--------------------+--------------------+\n",
            "|SalesOrderID|RevisionNumber|           OrderDate|             DueDate|            ShipDate|Status|OnlineOrderFlag|SalesOrderNumber|PurchaseOrderNumber| AccountNumber|CustomerID|SalesPersonID|TerritoryID|BillToAddressID|ShipToAddressID|ShipMethodID|CreditCardID|CreditCardApprovalCode|CurrencyRateID|  SubTotal|   TaxAmt|  Freight|  TotalDue|Comment|             rowguid|        ModifiedDate|\n",
            "+------------+--------------+--------------------+--------------------+--------------------+------+---------------+----------------+-------------------+--------------+----------+-------------+-----------+---------------+---------------+------------+------------+----------------------+--------------+----------+---------+---------+----------+-------+--------------------+--------------------+\n",
            "|       43659|             8|2011-05-31 00:00:...|2011-06-12 00:00:...|2011-06-07 00:00:...|     5|              0|         SO43659|        PO522145787|10-4020-000676|     29825|          279|          5|            985|            985|           5|       16281|         105041Vi84182|          NULL|20565,6206|1971,5149| 616,0984|23153,2339|   NULL|79B65321-39CA-411...|2011-06-07 00:00:...|\n",
            "|       43660|             8|2011-05-31 00:00:...|2011-06-12 00:00:...|2011-06-07 00:00:...|     5|              0|         SO43660|      PO18850127500|10-4020-000117|     29672|          279|          5|            921|            921|           5|        5618|         115213Vi29411|          NULL| 1294,2529| 124,2483|  38,8276| 1457,3288|   NULL|738DC42D-D03B-48A...|2011-06-07 00:00:...|\n",
            "|       43661|             8|2011-05-31 00:00:...|2011-06-12 00:00:...|2011-06-07 00:00:...|     5|              0|         SO43661|      PO18473189620|10-4020-000442|     29734|          282|          6|            517|            517|           5|        1346|           85274Vi6854|             4|32726,4786|3153,7696|  985,553|36865,8012|   NULL|D91B9131-18A4-4A1...|2011-06-07 00:00:...|\n",
            "|       43662|             8|2011-05-31 00:00:...|2011-06-12 00:00:...|2011-06-07 00:00:...|     5|              0|         SO43662|      PO18444174044|10-4020-000227|     29994|          282|          6|            482|            482|           5|       10456|         125295Vi53935|             4|28832,5289|2775,1646| 867,2389|32474,9324|   NULL|4A1ECFC0-CC3A-474...|2011-06-07 00:00:...|\n",
            "|       43663|             8|2011-05-31 00:00:...|2011-06-12 00:00:...|2011-06-07 00:00:...|     5|              0|         SO43663|      PO18009186470|10-4020-000510|     29565|          276|          4|           1073|           1073|           5|        4322|          45303Vi22691|          NULL|  419,4589|  40,2681|  12,5838|  472,3108|   NULL|9B1E7A40-6AE0-4AD...|2011-06-07 00:00:...|\n",
            "|       43664|             8|2011-05-31 00:00:...|2011-06-12 00:00:...|2011-06-07 00:00:...|     5|              0|         SO43664|      PO16617121983|10-4020-000397|     29898|          280|          1|            876|            876|           5|         806|           95555Vi4081|          NULL|24432,6088|2344,9921|   732,81|27510,4109|   NULL|22A8A5DA-8C22-42A...|2011-06-07 00:00:...|\n",
            "|       43665|             8|2011-05-31 00:00:...|2011-06-12 00:00:...|2011-06-07 00:00:...|     5|              0|         SO43665|      PO16588191572|10-4020-000146|     29580|          283|          1|            849|            849|           5|       15232|          35568Vi78804|          NULL|14352,7713|1375,9427| 429,9821|16158,6961|   NULL|5602C304-853C-43D...|2011-06-07 00:00:...|\n",
            "|       43666|             8|2011-05-31 00:00:...|2011-06-12 00:00:...|2011-06-07 00:00:...|     5|              0|         SO43666|      PO16008173883|10-4020-000511|     30052|          276|          4|           1074|           1074|           5|       13349|         105623Vi69217|          NULL| 5056,4896| 486,3747| 151,9921| 5694,8564|   NULL|E2A90057-1366-448...|2011-06-07 00:00:...|\n",
            "|       43667|             8|2011-05-31 00:00:...|2011-06-12 00:00:...|2011-06-07 00:00:...|     5|              0|         SO43667|      PO15428132599|10-4020-000646|     29974|          277|          3|            629|            629|           5|       10370|          55680Vi53503|          NULL|  6107,082| 586,1203| 183,1626| 6876,3649|   NULL|86D5237D-432D-4B2...|2011-06-07 00:00:...|\n",
            "|       43668|             8|2011-05-31 00:00:...|2011-06-12 00:00:...|2011-06-07 00:00:...|     5|              0|         SO43668|      PO14732180295|10-4020-000514|     29614|          282|          6|            529|            529|           5|        1566|           85817Vi8045|             4|35944,1562|3461,7654|1081,8017|40487,7233|   NULL|281CC355-D538-494...|2011-06-07 00:00:...|\n",
            "+------------+--------------+--------------------+--------------------+--------------------+------+---------------+----------------+-------------------+--------------+----------+-------------+-----------+---------------+---------------+------------+------------+----------------------+--------------+----------+---------+---------+----------+-------+--------------------+--------------------+\n",
            "only showing top 10 rows\n",
            "\n"
          ]
        }
      ]
    },
    {
      "cell_type": "code",
      "source": [
        "df_offer_product.show(10)"
      ],
      "metadata": {
        "colab": {
          "base_uri": "https://localhost:8080/"
        },
        "id": "tPdJxtyvM8O9",
        "outputId": "4a8bf47c-9cd1-415e-ff76-8f90ede60c14"
      },
      "execution_count": 52,
      "outputs": [
        {
          "output_type": "stream",
          "name": "stdout",
          "text": [
            "+--------------+---------+--------------------+--------------------+\n",
            "|SpecialOfferID|ProductID|             rowguid|        ModifiedDate|\n",
            "+--------------+---------+--------------------+--------------------+\n",
            "|             1|      680|BB30B868-D86C-455...|2011-04-01 00:00:...|\n",
            "|             1|      706|B3C9A4B1-2AE6-4CB...|2011-04-01 00:00:...|\n",
            "|             1|      707|27B711FE-0B77-4EA...|2011-04-01 00:00:...|\n",
            "|             1|      708|46CBB78B-246E-4D6...|2011-04-01 00:00:...|\n",
            "|             1|      709|CF102AA0-055F-4D2...|2011-04-01 00:00:...|\n",
            "|             1|      710|63718DA1-464B-432...|2011-04-01 00:00:...|\n",
            "|             1|      711|457EB971-D1C9-48C...|2011-04-01 00:00:...|\n",
            "|             1|      712|5B948448-BAE5-4F2...|2011-04-01 00:00:...|\n",
            "|             1|      713|07768F40-6E46-430...|2011-04-01 00:00:...|\n",
            "|             1|      714|85004BCE-C74A-4D4...|2011-04-01 00:00:...|\n",
            "+--------------+---------+--------------------+--------------------+\n",
            "only showing top 10 rows\n",
            "\n"
          ]
        }
      ]
    },
    {
      "cell_type": "code",
      "source": [
        "from pyspark.sql.functions import count, col\n",
        "\n",
        "# calcular a quantidade de linhas por SalesOrderID\n",
        "df_qnt_linhas_sales = (df_detail\n",
        "      .groupBy(\"SalesOrderID\")\n",
        "      .agg(count(\"*\").alias(\"RowCount\")))\n",
        "\n",
        "# selecionar apenas as linhas que possuem pelo menos três linhas de detalhes\n",
        "df_qnt_linhas_sales = df_qnt_linhas_sales.where(col(\"RowCount\") >= 3)\n",
        "\n",
        "# exibir o resultado\n",
        "df_qnt_linhas_sales.show()\n"
      ],
      "metadata": {
        "colab": {
          "base_uri": "https://localhost:8080/"
        },
        "id": "tLnqnW6MQek_",
        "outputId": "b350e8f5-f6aa-4af8-ffa1-d32ddc66dcaf"
      },
      "execution_count": 56,
      "outputs": [
        {
          "output_type": "stream",
          "name": "stdout",
          "text": [
            "+------------+--------+\n",
            "|SalesOrderID|RowCount|\n",
            "+------------+--------+\n",
            "|       43688|      11|\n",
            "|       45307|       7|\n",
            "|       45341|       9|\n",
            "|       46943|      14|\n",
            "|       46994|      35|\n",
            "|       48398|       3|\n",
            "|       49855|      46|\n",
            "|       50223|       6|\n",
            "|       51123|      53|\n",
            "|       51415|       4|\n",
            "|       51595|       3|\n",
            "|       53565|      47|\n",
            "|       53634|       3|\n",
            "|       53963|       3|\n",
            "|       54190|       4|\n",
            "|       55265|      13|\n",
            "|       55283|      38|\n",
            "|       56110|       4|\n",
            "|       56640|       3|\n",
            "|       56680|       4|\n",
            "+------------+--------+\n",
            "only showing top 20 rows\n",
            "\n"
          ]
        }
      ]
    },
    {
      "cell_type": "code",
      "source": [
        "from pyspark.sql.functions import sum\n",
        "from pyspark.sql.window import Window\n",
        "import pyspark.sql.functions as F\n",
        "\n",
        "# unir as tabelas SalesOrderDetail, SpecialOfferProduct e Product\n",
        "df_exer_dois = (df_detail\n",
        "      .join(df_offer_product, \"SpecialOfferID\")\n",
        "      .join(df_production, \"ProductID\"))\n",
        "\n",
        "# agrupar pelo número de dias para manufatura e pelo nome do produto\n",
        "# calcular a soma de OrderQty para cada grupo\n",
        "# criar uma janela ordenada pela soma de OrderQty em ordem decrescente\n",
        "# e usar a função rank para numerar cada linha na janela\n",
        "w = Window.partitionBy(\"DaysToManufacture\", \"Name\").orderBy(F.desc(\"TotalOrderQty\"))\n",
        "df_exer_dois = (df_exer_dois\n",
        "      .groupBy(\"DaysToManufacture\", \"Name\")\n",
        "      .agg(sum(\"OrderQty\").alias(\"TotalOrderQty\"))\n",
        "      .withColumn(\"rank\", F.rank().over(w)))\n",
        "\n",
        "# selecionar as três primeiras linhas para cada grupo\n",
        "df_exer_dois = df_exer_dois.where(F.col(\"rank\") <= 3)\n",
        "\n",
        "# exibir o resultado\n",
        "df_exer_dois.show()\n"
      ],
      "metadata": {
        "colab": {
          "base_uri": "https://localhost:8080/"
        },
        "id": "tSjy6cLMQQoU",
        "outputId": "5cc51f7f-a54c-46d2-ed50-5195b545aba5"
      },
      "execution_count": 57,
      "outputs": [
        {
          "output_type": "stream",
          "name": "stdout",
          "text": [
            "+-----------------+--------------------+-------------+----+\n",
            "|DaysToManufacture|                Name|TotalOrderQty|rank|\n",
            "+-----------------+--------------------+-------------+----+\n",
            "|                0|        AWC Logo Cap|      2109633|   1|\n",
            "|                0|All-Purpose Bike ...|        73455|   1|\n",
            "|                0|Bike Wash - Disso...|       820331|   1|\n",
            "|                0|          Cable Lock|       305577|   1|\n",
            "|                0|     Classic Vest, L|        61065|   1|\n",
            "|                0|     Classic Vest, M|       552332|   1|\n",
            "|                0|     Classic Vest, S|       758309|   1|\n",
            "|                0|Fender Set - Moun...|       625695|   1|\n",
            "|                0|Full-Finger Glove...|       517534|   1|\n",
            "|                0|Full-Finger Glove...|       459194|   1|\n",
            "|                0|Full-Finger Glove...|       147500|   1|\n",
            "|                0|    HL Mountain Tire|       411820|   1|\n",
            "|                0|        HL Road Tire|       253110|   1|\n",
            "|                0|Half-Finger Glove...|       355996|   1|\n",
            "|                0|Half-Finger Glove...|       906696|   1|\n",
            "|                0|Half-Finger Glove...|       613708|   1|\n",
            "|                0| Hitch Rack - 4-Bike|       734916|   1|\n",
            "|                0|Hydration Pack - ...|       699519|   1|\n",
            "|                0|    LL Mountain Tire|       254290|   1|\n",
            "|                0|        LL Road Tire|       307980|   1|\n",
            "+-----------------+--------------------+-------------+----+\n",
            "only showing top 20 rows\n",
            "\n"
          ]
        }
      ]
    },
    {
      "cell_type": "code",
      "source": [
        "from pyspark.sql.functions import sum, col\n",
        "from pyspark.sql.window import Window\n",
        "from pyspark.sql.functions import row_number\n",
        "\n",
        "# fazer join entre as tabelas SalesOrderDetail, SpecialOfferProduct e Product\n",
        "df_exer_tres = (df_detail\n",
        "      .join(df_offer_product, \"ProductID\")\n",
        "      .join(df_production, \"ProductID\"))\n",
        "\n",
        "# calcular a soma de OrderQty para cada produto e número de dias para manufatura\n",
        "df_exer_tres = (df_exer_tres\n",
        "      .groupBy(\"DaysToManufacture\", \"Name\")\n",
        "      .agg(sum(\"OrderQty\").alias(\"TotalQty\")))\n",
        "\n",
        "# criar janela ordenada pela soma de OrderQty\n",
        "w = (Window\n",
        "     .orderBy(col(\"TotalQty\").desc())\n",
        "     .partitionBy(\"DaysToManufacture\"))\n",
        "\n",
        "# selecionar os 3 produtos mais vendidos por cada número de dias para manufatura\n",
        "\n",
        "df_exer_tres = (df_exer_tres\n",
        "      .withColumn(\"Rank\", row_number().over(w))\n",
        "      .where(col(\"Rank\") <= 3)\n",
        "      .drop(\"Rank\"))\n",
        "\n",
        "\n",
        "# exibir o resultado\n",
        "df_exer_tres.show()\n"
      ],
      "metadata": {
        "colab": {
          "base_uri": "https://localhost:8080/"
        },
        "id": "jqvuht_HR0QO",
        "outputId": "2287b31c-a857-4649-cd11-c9361281e39a"
      },
      "execution_count": 61,
      "outputs": [
        {
          "output_type": "stream",
          "name": "stdout",
          "text": [
            "+-----------------+--------------------+--------+\n",
            "|DaysToManufacture|                Name|TotalQty|\n",
            "+-----------------+--------------------+--------+\n",
            "|                0|Sport-100 Helmet,...|   33715|\n",
            "|                0|        AWC Logo Cap|   33244|\n",
            "|                0|Sport-100 Helmet,...|   32660|\n",
            "|                1|LL Road Frame - B...|    4743|\n",
            "|                1|ML Road Frame-W -...|    4305|\n",
            "|                1|LL Road Frame - R...|    2973|\n",
            "|                2|HL Mountain Frame...|    2412|\n",
            "|                2|ML Road Frame-W -...|     895|\n",
            "|                2|LL Mountain Frame...|     884|\n",
            "|                4|Mountain-200 Blac...|   11908|\n",
            "|                4|    Road-650 Red, 44|    9016|\n",
            "|                4|Mountain-200 Blac...|    7992|\n",
            "+-----------------+--------------------+--------+\n",
            "\n"
          ]
        }
      ]
    },
    {
      "cell_type": "code",
      "source": [
        "from pyspark.sql.functions import sum\n",
        "\n",
        "# Join dos dataframes SalesOrderHeader, SalesOrderDetail e Product usando as colunas comuns\n",
        "sales_df_exe_quatro = df_header.join(df_detail, \"SalesOrderID\") \\\n",
        "                                .join(df_production, \"ProductID\")\n",
        "\n",
        "# Agrupamento por ProductID e OrderDate, com soma de OrderQty\n",
        "result_df = sales_df_exe_quatro.groupBy(\"ProductID\", \"OrderDate\") \\\n",
        "                    .agg(sum(\"OrderQty\").alias(\"TotalOrderQty\"))\n",
        "\n",
        "# Exibição do resultado\n",
        "result_df.show()\n"
      ],
      "metadata": {
        "colab": {
          "base_uri": "https://localhost:8080/"
        },
        "id": "fxP3-mVrU97U",
        "outputId": "abb79ffb-1cb6-4846-ad06-28ca19d39fae"
      },
      "execution_count": 63,
      "outputs": [
        {
          "output_type": "stream",
          "name": "stdout",
          "text": [
            "+---------+--------------------+-------------+\n",
            "|ProductID|           OrderDate|TotalOrderQty|\n",
            "+---------+--------------------+-------------+\n",
            "|      767|2011-05-31 00:00:...|            1|\n",
            "|      749|2011-07-28 00:00:...|            1|\n",
            "|      749|2011-08-01 00:00:...|           12|\n",
            "|      751|2011-08-16 00:00:...|            2|\n",
            "|      715|2011-10-01 00:00:...|          126|\n",
            "|      768|2011-10-31 00:00:...|           26|\n",
            "|      772|2011-11-02 00:00:...|            1|\n",
            "|      749|2011-11-04 00:00:...|            1|\n",
            "|      775|2011-11-29 00:00:...|            1|\n",
            "|      764|2011-12-01 00:00:...|           22|\n",
            "|      752|2011-12-23 00:00:...|            1|\n",
            "|      774|2012-02-09 00:00:...|            1|\n",
            "|      753|2012-02-24 00:00:...|            1|\n",
            "|      777|2012-03-06 00:00:...|            1|\n",
            "|      749|2012-03-08 00:00:...|            1|\n",
            "|      749|2012-03-23 00:00:...|            1|\n",
            "|      751|2012-04-20 00:00:...|            2|\n",
            "|      752|2012-05-07 00:00:...|            3|\n",
            "|      783|2012-07-03 00:00:...|            1|\n",
            "|      795|2012-09-21 00:00:...|            1|\n",
            "+---------+--------------------+-------------+\n",
            "only showing top 20 rows\n",
            "\n"
          ]
        }
      ]
    },
    {
      "cell_type": "code",
      "source": [
        "from pyspark.sql.functions import year, month\n",
        "\n",
        "# carrega a tabela Sales.SalesOrderHeader\n",
        "sales_orders = df_header\n",
        "\n",
        "# filtra as linhas que atendem aos critérios especificados\n",
        "filtered_orders = sales_orders.filter(\n",
        "    (year(\"OrderDate\") == 2011) & (month(\"OrderDate\") == 9) & (sales_orders[\"TotalDue\"] > 1000)\n",
        ")\n",
        "\n",
        "# seleciona as colunas SalesOrderID, OrderDate e TotalDue\n",
        "selected_columns = filtered_orders.select(\"SalesOrderID\", \"OrderDate\", \"TotalDue\")\n",
        "\n",
        "# ordena pelo TotalDue decrescente\n",
        "result = selected_columns.orderBy(\"TotalDue\", ascending=False)\n",
        "\n",
        "# mostra o resultado\n",
        "result.show()\n",
        "\n"
      ],
      "metadata": {
        "colab": {
          "base_uri": "https://localhost:8080/"
        },
        "id": "mJBF9XkhXpcr",
        "outputId": "40aa702a-3609-4b3a-b8d5-282a97a8b0ce"
      },
      "execution_count": 69,
      "outputs": [
        {
          "output_type": "stream",
          "name": "stdout",
          "text": [
            "+------------+---------+--------+\n",
            "|SalesOrderID|OrderDate|TotalDue|\n",
            "+------------+---------+--------+\n",
            "+------------+---------+--------+\n",
            "\n"
          ]
        }
      ]
    },
    {
      "cell_type": "code",
      "source": [
        "# registra a tabela SalesOrderHeader como uma tabela temporária\n",
        "df_header.createOrReplaceTempView(\"sales_order_header\")\n",
        "\n",
        "# executa a consulta SQL sobre a tabela temporária\n",
        "result = spark.sql(\"\"\"\n",
        "    SELECT SalesOrderID, OrderDate, TotalDue\n",
        "    FROM sales_order_header\n",
        "    WHERE YEAR(OrderDate) = 2011 AND MONTH(OrderDate) = 9 AND TotalDue > 1000\n",
        "    ORDER BY TotalDue DESC\n",
        "\"\"\")\n",
        "\n",
        "# mostra o resultado\n",
        "result.show()\n",
        "\n"
      ],
      "metadata": {
        "colab": {
          "base_uri": "https://localhost:8080/"
        },
        "id": "SX9DEjobd9Aq",
        "outputId": "19c65c4d-a98a-409e-ffcb-df002a0fa747"
      },
      "execution_count": 70,
      "outputs": [
        {
          "output_type": "stream",
          "name": "stdout",
          "text": [
            "+------------+---------+--------+\n",
            "|SalesOrderID|OrderDate|TotalDue|\n",
            "+------------+---------+--------+\n",
            "+------------+---------+--------+\n",
            "\n"
          ]
        }
      ]
    }
  ]
}